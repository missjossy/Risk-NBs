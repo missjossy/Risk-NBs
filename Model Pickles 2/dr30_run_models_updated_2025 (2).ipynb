{
 "cells": [
  {
   "cell_type": "markdown",
   "id": "4317e56b-c5fc-43a9-8167-4ab3cfe8ab30",
   "metadata": {},
   "source": [
    "# Imports"
   ]
  },
  {
   "cell_type": "code",
   "execution_count": 2,
   "id": "a87af42f-8306-4c56-b09f-c44f5c316e88",
   "metadata": {},
   "outputs": [],
   "source": [
    "import pickle\n",
    "import matplotlib.pyplot as plt\n",
    "import seaborn as sns"
   ]
  },
  {
   "cell_type": "code",
   "execution_count": 3,
   "id": "d1b598e9-2f01-4a91-8793-fde0458aa080",
   "metadata": {},
   "outputs": [],
   "source": [
    "import pandas as pd\n",
    "from sklearn.ensemble import RandomForestRegressor\n",
    "from sklearn.metrics import mean_squared_error\n",
    "from datetime import datetime"
   ]
  },
  {
   "cell_type": "code",
   "execution_count": 4,
   "id": "e9ad7f82-23a3-49e3-ade8-bd082ecf9e92",
   "metadata": {},
   "outputs": [],
   "source": [
    "from datetime import date"
   ]
  },
  {
   "cell_type": "code",
   "execution_count": 5,
   "id": "82628284-e428-4948-baed-2174558992e0",
   "metadata": {},
   "outputs": [
    {
     "ename": "ModuleNotFoundError",
     "evalue": "No module named 'psycopg2'",
     "output_type": "error",
     "traceback": [
      "\u001b[0;31m---------------------------------------------------------------------------\u001b[0m",
      "\u001b[0;31mModuleNotFoundError\u001b[0m                       Traceback (most recent call last)",
      "Cell \u001b[0;32mIn[5], line 4\u001b[0m\n\u001b[1;32m      2\u001b[0m \u001b[38;5;28;01mimport\u001b[39;00m\u001b[38;5;250m \u001b[39m\u001b[38;5;21;01mpandas\u001b[39;00m\u001b[38;5;250m \u001b[39m\u001b[38;5;28;01mas\u001b[39;00m\u001b[38;5;250m \u001b[39m\u001b[38;5;21;01mpd\u001b[39;00m\n\u001b[1;32m      3\u001b[0m \u001b[38;5;28;01mfrom\u001b[39;00m\u001b[38;5;250m \u001b[39m\u001b[38;5;21;01msqlalchemy\u001b[39;00m\u001b[38;5;250m \u001b[39m\u001b[38;5;28;01mimport\u001b[39;00m create_engine\n\u001b[0;32m----> 4\u001b[0m \u001b[38;5;28;01mimport\u001b[39;00m\u001b[38;5;250m \u001b[39m\u001b[38;5;21;01mpsycopg2\u001b[39;00m\u001b[38;5;250m \u001b[39m\u001b[38;5;28;01mas\u001b[39;00m\u001b[38;5;250m \u001b[39m\u001b[38;5;21;01mpg\u001b[39;00m\n\u001b[1;32m      5\u001b[0m \u001b[38;5;28;01mfrom\u001b[39;00m\u001b[38;5;250m \u001b[39m\u001b[38;5;21;01mdatetime\u001b[39;00m\u001b[38;5;250m \u001b[39m\u001b[38;5;28;01mimport\u001b[39;00m datetime\n\u001b[1;32m      6\u001b[0m \u001b[38;5;28;01mimport\u001b[39;00m\u001b[38;5;250m \u001b[39m\u001b[38;5;21;01mjson\u001b[39;00m\n",
      "\u001b[0;31mModuleNotFoundError\u001b[0m: No module named 'psycopg2'"
     ]
    }
   ],
   "source": [
    "# 34234\n",
    "import pandas as pd\n",
    "from sqlalchemy import create_engine\n",
    "import psycopg2 as pg\n",
    "from datetime import datetime\n",
    "import json\n",
    "import numpy as np\n",
    "from plotly.subplots import make_subplots\n",
    "import plotly.express as px\n",
    "import plotly.graph_objects as go\n",
    "import plotly.io as pio\n",
    "import datetime\n",
    "pio.renderers.default = 'notebook'\n",
    "import warnings\n",
    "import numpy_financial as npf\n",
    "\n",
    "warnings.filterwarnings(\"ignore\")\n",
    "from datetime import timedelta\n",
    "import numpy_financial as npf"
   ]
  },
  {
   "cell_type": "code",
   "execution_count": 6,
   "id": "460d8a19-0edd-4d72-9771-6d01f7f65d17",
   "metadata": {},
   "outputs": [
    {
     "name": "stderr",
     "output_type": "stream",
     "text": [
      "/var/folders/br/rqk8kpt50q1_dkr0c2p_53lh0000gp/T/ipykernel_70014/1447463556.py:13: DeprecationWarning: This package has been renamed to snowflake_uuid and will be removed shortly. Please update immediately.\n",
      "  import snowflake.connector\n"
     ]
    },
    {
     "ename": "ModuleNotFoundError",
     "evalue": "No module named 'snowflake.connector'; 'snowflake' is not a package",
     "output_type": "error",
     "traceback": [
      "\u001b[0;31m---------------------------------------------------------------------------\u001b[0m",
      "\u001b[0;31mModuleNotFoundError\u001b[0m                       Traceback (most recent call last)",
      "Cell \u001b[0;32mIn[6], line 13\u001b[0m\n\u001b[1;32m     10\u001b[0m \u001b[38;5;28;01mfrom\u001b[39;00m\u001b[38;5;250m \u001b[39m\u001b[38;5;21;01mdatetime\u001b[39;00m\u001b[38;5;250m \u001b[39m\u001b[38;5;28;01mimport\u001b[39;00m datetime, timedelta\n\u001b[1;32m     11\u001b[0m \u001b[38;5;28;01mimport\u001b[39;00m\u001b[38;5;250m \u001b[39m\u001b[38;5;21;01mast\u001b[39;00m\n\u001b[0;32m---> 13\u001b[0m \u001b[38;5;28;01mimport\u001b[39;00m\u001b[38;5;250m \u001b[39m\u001b[38;5;21;01msnowflake\u001b[39;00m\u001b[38;5;21;01m.\u001b[39;00m\u001b[38;5;21;01mconnector\u001b[39;00m\n\u001b[1;32m     14\u001b[0m \u001b[38;5;28;01mfrom\u001b[39;00m\u001b[38;5;250m \u001b[39m\u001b[38;5;21;01msnowflake\u001b[39;00m\u001b[38;5;21;01m.\u001b[39;00m\u001b[38;5;21;01msqlalchemy\u001b[39;00m\u001b[38;5;250m \u001b[39m\u001b[38;5;28;01mimport\u001b[39;00m URL\n\u001b[1;32m     15\u001b[0m \u001b[38;5;28;01mfrom\u001b[39;00m\u001b[38;5;250m \u001b[39m\u001b[38;5;21;01msqlalchemy\u001b[39;00m\u001b[38;5;250m \u001b[39m\u001b[38;5;28;01mimport\u001b[39;00m create_engine\n",
      "\u001b[0;31mModuleNotFoundError\u001b[0m: No module named 'snowflake.connector'; 'snowflake' is not a package"
     ]
    }
   ],
   "source": [
    "from sqlalchemy import create_engine\n",
    "import pandas as pd\n",
    "import numpy as np\n",
    "import matplotlib.pyplot as plt\n",
    "import pickle\n",
    "import json\n",
    "from tqdm import tqdm\n",
    "import numpy as np\n",
    "import warnings\n",
    "from datetime import datetime, timedelta\n",
    "import ast\n",
    "\n",
    "import snowflake.connector\n",
    "from snowflake.sqlalchemy import URL\n",
    "from sqlalchemy import create_engine"
   ]
  },
  {
   "cell_type": "code",
   "execution_count": 6,
   "id": "7589d052-621a-4b5a-a115-2e66ae492a54",
   "metadata": {},
   "outputs": [],
   "source": [
    "from tqdm import tqdm\n",
    "from sklearn.decomposition import PCA\n",
    "from sklearn import preprocessing\n",
    "from sklearn.preprocessing import StandardScaler\n",
    "from hampel import hampel\n",
    "from queries import *"
   ]
  },
  {
   "cell_type": "code",
   "execution_count": 5,
   "id": "317c008c-164e-4ef0-b3fc-4f32be907839",
   "metadata": {},
   "outputs": [],
   "source": [
    "pd.set_option('display.max_columns', 500)\n",
    "pd.set_option('display.max_rows', 500)"
   ]
  },
  {
   "cell_type": "code",
   "execution_count": 6,
   "id": "9bde9406-2077-4ec1-8520-b76c216e394a",
   "metadata": {},
   "outputs": [],
   "source": [
    "def query_for_data(query):\n",
    "    engine = create_engine(URL(user=my_user,password=my_pass,account=my_account,warehouse=my_warehouse,database=my_db))\n",
    "    connection = engine.connect()\n",
    "    df = pd.read_sql(query, connection)\n",
    "    return df"
   ]
  },
  {
   "cell_type": "code",
   "execution_count": 7,
   "id": "c87ff1fe-d239-460a-9352-2df78ed329f1",
   "metadata": {},
   "outputs": [],
   "source": [
    "# Function to categorize 'ln' values\n",
    "def categorize_ln(ln):\n",
    "    if ln == 0:\n",
    "        return 'ln0'\n",
    "    elif ln == 1:\n",
    "        return 'ln1'\n",
    "    elif 2 <= ln <= 4:\n",
    "        return 'ln2-4'\n",
    "    elif 5 <= ln <= 8:\n",
    "        return 'ln5-8'\n",
    "    elif 9 <= ln <= 12:\n",
    "        return 'ln9-12'\n",
    "    elif 13 <= ln <= 20:\n",
    "        return 'ln13-20'\n",
    "    else:  # ln > 20\n",
    "        return 'ln21+'\n"
   ]
  },
  {
   "cell_type": "markdown",
   "id": "3549bf29-abce-4a09-a8fc-505954437e4a",
   "metadata": {},
   "source": [
    "# Load Models"
   ]
  },
  {
   "cell_type": "code",
   "execution_count": 8,
   "id": "0925dd4e-3830-4786-82e4-d45591602a08",
   "metadata": {},
   "outputs": [],
   "source": [
    "ln_groups = ['ln0', 'ln1', 'ln13_20', 'ln2_4', 'ln21', 'ln5_8', 'ln9_12','portfolio']"
   ]
  },
  {
   "cell_type": "code",
   "execution_count": 9,
   "id": "d92da476-5893-48f0-9d54-9a81c388f743",
   "metadata": {},
   "outputs": [],
   "source": [
    "# !pip install scikit-learn==0.24.2\n",
    "\n"
   ]
  },
  {
   "cell_type": "code",
   "execution_count": 105,
   "id": "929017d4-3a63-4191-8fc5-5b0588f93088",
   "metadata": {},
   "outputs": [],
   "source": [
    "model_dict_fdr30_dpd1 = {}\n",
    "for ln_group in ln_groups:\n",
    "    file_name = f'fdr30_forecast_for_dpd1_{ln_group}.pkl'\n",
    "    \n",
    "    with open(file_name, 'rb') as file:\n",
    "        model_dict_fdr30_dpd1[f'fdr30_forecast_for_dpd1_{ln_group}_model'] = pickle.load(file)"
   ]
  },
  {
   "cell_type": "code",
   "execution_count": 107,
   "id": "372b194a-6c47-456d-b8d2-834db42eb9b7",
   "metadata": {},
   "outputs": [
    {
     "name": "stdout",
     "output_type": "stream",
     "text": [
      "Fixed model: fdr30_forecast_for_dpd1_ln0_model\n",
      "Fixed model: fdr30_forecast_for_dpd1_ln1_model\n",
      "Fixed model: fdr30_forecast_for_dpd1_ln2_4_model\n",
      "Fixed model: fdr30_forecast_for_dpd1_ln5_8_model\n",
      "Fixed model: fdr30_forecast_for_dpd1_ln9_12_model\n",
      "Fixed model: fdr30_forecast_for_dpd1_ln13_20_model\n",
      "Fixed model: fdr30_forecast_for_dpd1_ln21_model\n",
      "Fixed model: fdr30_forecast_for_dpd1_portfolio_model\n"
     ]
    }
   ],
   "source": [
    "import pickle\n",
    "from sklearn.ensemble import GradientBoostingRegressor\n",
    "\n",
    "# Fix loaded models\n",
    "for ln_group in ln_groups:\n",
    "    model_key = f'fdr30_forecast_for_dpd1_{ln_group}_model'\n",
    "    model = model_dict_fdr30_dpd1[model_key]\n",
    "\n",
    "    # Check and fix missing attribute\n",
    "    if isinstance(model, GradientBoostingRegressor):\n",
    "        if not hasattr(model, 'n_features_'):  # Add n_features_ if missing\n",
    "            model.n_features_ = model.n_features_in_\n",
    "\n",
    "        # Optional: Also remove deprecated attributes if still present\n",
    "        if hasattr(model, 'min_impurity_split'):\n",
    "            delattr(model, 'min_impurity_split')\n",
    "\n",
    "        print(f\"Fixed model: {model_key}\")\n"
   ]
  },
  {
   "cell_type": "markdown",
   "id": "7aad9d8f-10e1-4d56-934e-1ff3cc97617f",
   "metadata": {},
   "source": [
    "# Load SF Data"
   ]
  },
  {
   "cell_type": "code",
   "execution_count": 42,
   "id": "3c382bd2-e703-4551-a84c-a79ed7fc6237",
   "metadata": {},
   "outputs": [],
   "source": [
    "my_user=\"AMIT_S\"\n",
    "my_pass=\"Amit2525!!\"\n",
    "my_account=\"xukvgcv-xm56910\"\n",
    "my_warehouse='COMPUTE_WH'\n",
    "my_db='ghana_prod'\n"
   ]
  },
  {
   "cell_type": "code",
   "execution_count": 44,
   "id": "6bbd41ce-9e9c-415f-88dc-407f4038ac9f",
   "metadata": {},
   "outputs": [],
   "source": [
    "# FDR1\n",
    "query_fdr1 = '''\n",
    "    select ln, loan_id, disbursementdate, REPAYMENT_DUE_DATE,installment, max(disbursed_amount) as disbursed_amount, least(sum(amount), max(disbursed_amount)) repaid_amount1\n",
    "    from   (\n",
    "        select \n",
    "        ln,\n",
    "       loan_id, disbursementdate, REPAYMENT_DUE_DATE, disbursed_amount,\n",
    "        total_disbursed_amount, installment, TRANSACTION_DATE,\n",
    "case when datediff('day', REPAYMENT_DUE_DATE, TRANSACTION_DATE) <= 1 then amount else 0 end as amount\n",
    "            from\n",
    "                (\n",
    "                    select re.loan_id,\n",
    "                       truncate(re.ln) ln,\n",
    "                       re.installment,\n",
    "                       adjusted_PRINCIPAL_DUE AS disbursed_amount,\n",
    "                       re.REPAYMENT_DUE_DATE,\n",
    "                       re.LOANAMOUNT AS total_disbursed_amount,\n",
    "                       re.disbursementdate,\n",
    "                       nvl(re.amount, 0) as amount,\n",
    "                       re.TRANSACTION_DATE\n",
    "            from ML.LOAN_INFO_TBL ml \n",
    "            join     GHANA_PROD.ML.REPAYMENT_TRANSACTIONS_EXTENDED re\n",
    "              on ml.loan_id=re.loan_id             \n",
    "            where \n",
    "             ml.loan_product_id not like '%MAL%' \n",
    "            and re.disbursementdate::date >= '2024-04-01'\n",
    "              ) t\n",
    "            where datediff('day', REPAYMENT_DUE_DATE,current_date) > 1 \n",
    "   order by TRANSACTION_DATE, installment\n",
    "            ) t2\n",
    "group by 1, 2, 3, 4,5\n",
    "\n",
    "'''\n",
    "query_results_fdr1 = query_for_data(query_fdr1)"
   ]
  },
  {
   "cell_type": "code",
   "execution_count": 45,
   "id": "5a0c223e-b79e-4b5e-95f9-ca95b6b86a96",
   "metadata": {},
   "outputs": [
    {
     "data": {
      "text/html": [
       "<div>\n",
       "<style scoped>\n",
       "    .dataframe tbody tr th:only-of-type {\n",
       "        vertical-align: middle;\n",
       "    }\n",
       "\n",
       "    .dataframe tbody tr th {\n",
       "        vertical-align: top;\n",
       "    }\n",
       "\n",
       "    .dataframe thead th {\n",
       "        text-align: right;\n",
       "    }\n",
       "</style>\n",
       "<table border=\"1\" class=\"dataframe\">\n",
       "  <thead>\n",
       "    <tr style=\"text-align: right;\">\n",
       "      <th></th>\n",
       "      <th>ln</th>\n",
       "      <th>loan_id</th>\n",
       "      <th>disbursementdate</th>\n",
       "      <th>repayment_due_date</th>\n",
       "      <th>installment</th>\n",
       "      <th>disbursed_amount</th>\n",
       "      <th>repaid_amount1</th>\n",
       "      <th>fdr1</th>\n",
       "    </tr>\n",
       "  </thead>\n",
       "  <tbody>\n",
       "    <tr>\n",
       "      <th>0</th>\n",
       "      <td>3</td>\n",
       "      <td>GUKP230</td>\n",
       "      <td>2024-11-11 15:23:49</td>\n",
       "      <td>2024-12-11</td>\n",
       "      <td>1</td>\n",
       "      <td>540.0</td>\n",
       "      <td>540.0</td>\n",
       "      <td>0.0</td>\n",
       "    </tr>\n",
       "    <tr>\n",
       "      <th>1</th>\n",
       "      <td>5</td>\n",
       "      <td>BOQR407</td>\n",
       "      <td>2024-11-15 09:18:39</td>\n",
       "      <td>2024-12-13</td>\n",
       "      <td>1</td>\n",
       "      <td>850.0</td>\n",
       "      <td>850.0</td>\n",
       "      <td>0.0</td>\n",
       "    </tr>\n",
       "    <tr>\n",
       "      <th>2</th>\n",
       "      <td>21</td>\n",
       "      <td>WKMJ771</td>\n",
       "      <td>2024-11-09 13:07:55</td>\n",
       "      <td>2024-12-12</td>\n",
       "      <td>1</td>\n",
       "      <td>3000.0</td>\n",
       "      <td>3000.0</td>\n",
       "      <td>0.0</td>\n",
       "    </tr>\n",
       "  </tbody>\n",
       "</table>\n",
       "</div>"
      ],
      "text/plain": [
       "   ln  loan_id    disbursementdate repayment_due_date  installment  \\\n",
       "0   3  GUKP230 2024-11-11 15:23:49         2024-12-11            1   \n",
       "1   5  BOQR407 2024-11-15 09:18:39         2024-12-13            1   \n",
       "2  21  WKMJ771 2024-11-09 13:07:55         2024-12-12            1   \n",
       "\n",
       "   disbursed_amount  repaid_amount1  fdr1  \n",
       "0             540.0           540.0   0.0  \n",
       "1             850.0           850.0   0.0  \n",
       "2            3000.0          3000.0   0.0  "
      ]
     },
     "execution_count": 45,
     "metadata": {},
     "output_type": "execute_result"
    }
   ],
   "source": [
    "# round((1 - sum(repaid_amount)/sum(disbursed_amount))*100,2) as fin_default,\n",
    "query_results_fdr1['fdr1']= 1 - query_results_fdr1.repaid_amount1/query_results_fdr1.disbursed_amount\n",
    "query_results_fdr1.head(3)"
   ]
  },
  {
   "cell_type": "code",
   "execution_count": 46,
   "id": "3edd233c-a460-4bcf-b3e4-01a61eb64bd6",
   "metadata": {},
   "outputs": [
    {
     "data": {
      "text/plain": [
       "(1393547, 8)"
      ]
     },
     "execution_count": 46,
     "metadata": {},
     "output_type": "execute_result"
    }
   ],
   "source": [
    "query_results_fdr1.shape"
   ]
  },
  {
   "cell_type": "code",
   "execution_count": 47,
   "id": "3fd41984-5819-4269-84d3-e6998ca50252",
   "metadata": {},
   "outputs": [],
   "source": [
    "merged=query_results_fdr1"
   ]
  },
  {
   "cell_type": "code",
   "execution_count": 48,
   "id": "6300cd3c-7ff6-4b08-86ec-62bb2cae1d2b",
   "metadata": {},
   "outputs": [],
   "source": [
    "# Applying the categorize_ln function to create 'ln_group' column\n",
    "merged['ln_group'] = merged['ln'].apply(categorize_ln)\n",
    "merged['disbursementdate'] = pd.to_datetime(merged['disbursementdate'])\n",
    "merged['disbursed_month'] = merged['disbursementdate'].dt.to_period('M')"
   ]
  },
  {
   "cell_type": "markdown",
   "id": "7e80d116-14af-4fae-93fe-7aba23c50238",
   "metadata": {},
   "source": [
    "### Add Due Period"
   ]
  },
  {
   "cell_type": "code",
   "execution_count": 50,
   "id": "70296932-308a-4dbe-a328-39da52272c3e",
   "metadata": {},
   "outputs": [],
   "source": [
    "# Function to categorize due dates\n",
    "def categorize_due_date(date):\n",
    "    day = date.day\n",
    "    if day <= 5:\n",
    "        return 1\n",
    "    elif 6 <= day <= 25:\n",
    "        return 2\n",
    "    else:\n",
    "        return 3"
   ]
  },
  {
   "cell_type": "code",
   "execution_count": 51,
   "id": "68795588-ddd8-43f7-947f-761114cd49af",
   "metadata": {},
   "outputs": [],
   "source": [
    "# Convert 'repayment_due_date' to datetime\n",
    "merged['repayment_due_date'] = pd.to_datetime(merged['repayment_due_date'])\n",
    "merged['due_period_manual'] = merged['repayment_due_date'].apply(categorize_due_date)\n"
   ]
  },
  {
   "cell_type": "code",
   "execution_count": 52,
   "id": "09844503-9fc0-4b7e-bb6d-76d3725ce895",
   "metadata": {
    "tags": []
   },
   "outputs": [
    {
     "data": {
      "text/html": [
       "<div>\n",
       "<style scoped>\n",
       "    .dataframe tbody tr th:only-of-type {\n",
       "        vertical-align: middle;\n",
       "    }\n",
       "\n",
       "    .dataframe tbody tr th {\n",
       "        vertical-align: top;\n",
       "    }\n",
       "\n",
       "    .dataframe thead th {\n",
       "        text-align: right;\n",
       "    }\n",
       "</style>\n",
       "<table border=\"1\" class=\"dataframe\">\n",
       "  <thead>\n",
       "    <tr style=\"text-align: right;\">\n",
       "      <th></th>\n",
       "      <th>due_period_manual</th>\n",
       "      <th>1</th>\n",
       "      <th>2</th>\n",
       "      <th>3</th>\n",
       "      <th>total</th>\n",
       "      <th>bom_proportion</th>\n",
       "      <th>middle_month_proportion</th>\n",
       "      <th>eom_proportion</th>\n",
       "    </tr>\n",
       "    <tr>\n",
       "      <th>disbursed_month</th>\n",
       "      <th>ln_group</th>\n",
       "      <th></th>\n",
       "      <th></th>\n",
       "      <th></th>\n",
       "      <th></th>\n",
       "      <th></th>\n",
       "      <th></th>\n",
       "      <th></th>\n",
       "    </tr>\n",
       "  </thead>\n",
       "  <tbody>\n",
       "    <tr>\n",
       "      <th rowspan=\"2\" valign=\"top\">2024-04</th>\n",
       "      <th>ln0</th>\n",
       "      <td>1120</td>\n",
       "      <td>8502</td>\n",
       "      <td>2580</td>\n",
       "      <td>12202</td>\n",
       "      <td>9.178823</td>\n",
       "      <td>69.677102</td>\n",
       "      <td>21.144075</td>\n",
       "    </tr>\n",
       "    <tr>\n",
       "      <th>ln1</th>\n",
       "      <td>1091</td>\n",
       "      <td>5607</td>\n",
       "      <td>1723</td>\n",
       "      <td>8421</td>\n",
       "      <td>12.955706</td>\n",
       "      <td>66.583541</td>\n",
       "      <td>20.460753</td>\n",
       "    </tr>\n",
       "  </tbody>\n",
       "</table>\n",
       "</div>"
      ],
      "text/plain": [
       "due_period_manual            1     2     3  total  bom_proportion  \\\n",
       "disbursed_month ln_group                                            \n",
       "2024-04         ln0       1120  8502  2580  12202        9.178823   \n",
       "                ln1       1091  5607  1723   8421       12.955706   \n",
       "\n",
       "due_period_manual         middle_month_proportion  eom_proportion  \n",
       "disbursed_month ln_group                                           \n",
       "2024-04         ln0                     69.677102       21.144075  \n",
       "                ln1                     66.583541       20.460753  "
      ]
     },
     "execution_count": 52,
     "metadata": {},
     "output_type": "execute_result"
    }
   ],
   "source": [
    "grouped = merged.groupby(['disbursed_month', 'ln_group', 'due_period_manual']).size().unstack(fill_value=0)\n",
    "\n",
    "# Calculate total counts for each group\n",
    "grouped['total'] = grouped.sum(axis=1)\n",
    "\n",
    "# Calculate proportions for each due_period_manual\n",
    "grouped['bom_proportion'] = grouped[1] / grouped['total'] * 100\n",
    "grouped['middle_month_proportion'] = grouped[2] / grouped['total'] * 100\n",
    "grouped['eom_proportion'] = grouped[3] / grouped['total'] * 100\n",
    "\n",
    "grouped.head(2)"
   ]
  },
  {
   "cell_type": "code",
   "execution_count": 53,
   "id": "6ba5021c-db97-40d4-b3a3-8abfba0d6721",
   "metadata": {},
   "outputs": [],
   "source": [
    "grouped2 = merged.groupby(['disbursed_month', 'due_period_manual']).size().unstack(fill_value=0)\n",
    "\n",
    "# Calculate total counts for each group\n",
    "grouped2['total'] = grouped2.sum(axis=1)\n",
    "\n",
    "# Calculate proportions for each due_period_manual\n",
    "grouped2['bom_proportion'] = grouped2[1] / grouped2['total'] * 100\n",
    "grouped2['middle_month_proportion'] = grouped2[2] / grouped2['total'] * 100\n",
    "grouped2['eom_proportion'] = grouped2[3] / grouped2['total'] * 100"
   ]
  },
  {
   "cell_type": "code",
   "execution_count": 54,
   "id": "ba9e31a5-e19b-41aa-8e53-43331b1a4b7e",
   "metadata": {
    "tags": []
   },
   "outputs": [],
   "source": [
    "grouped_rel=grouped.reset_index()[['disbursed_month','ln_group','bom_proportion','middle_month_proportion','eom_proportion']]\n",
    "grouped2_rel=grouped2[['bom_proportion','middle_month_proportion','eom_proportion']]"
   ]
  },
  {
   "cell_type": "markdown",
   "id": "434cfad3-5f31-40cd-8260-c660126fd347",
   "metadata": {},
   "source": [
    "# Apply Models"
   ]
  },
  {
   "cell_type": "markdown",
   "id": "e75d0a4c-66e0-4eaf-98a8-dd9af0169b24",
   "metadata": {},
   "source": [
    "### Predict FDR30 For Next Month"
   ]
  },
  {
   "cell_type": "code",
   "execution_count": 57,
   "id": "e72b3aad-b2e1-49e7-b460-384ccdd0abe6",
   "metadata": {},
   "outputs": [
    {
     "data": {
      "text/plain": [
       "(1377575, 11)"
      ]
     },
     "execution_count": 57,
     "metadata": {},
     "output_type": "execute_result"
    }
   ],
   "source": [
    "# data for fdr90\n",
    "data_test=merged[merged.repayment_due_date<='2025-01-01'] #those that reached fdr1\n",
    "data_test.shape"
   ]
  },
  {
   "cell_type": "code",
   "execution_count": 58,
   "id": "a1506fa4-2c92-48da-8b35-74b71b38de6d",
   "metadata": {},
   "outputs": [
    {
     "data": {
      "text/plain": [
       "Timestamp('2024-04-01 00:00:22')"
      ]
     },
     "execution_count": 58,
     "metadata": {},
     "output_type": "execute_result"
    }
   ],
   "source": [
    "data_test.disbursementdate.min()"
   ]
  },
  {
   "cell_type": "code",
   "execution_count": 59,
   "id": "ac552f32-fbad-419d-a6c1-38ef06f1bb9b",
   "metadata": {},
   "outputs": [
    {
     "data": {
      "text/plain": [
       "120"
      ]
     },
     "execution_count": 59,
     "metadata": {},
     "output_type": "execute_result"
    }
   ],
   "source": [
    "data_test.fdr1.isna().sum()"
   ]
  },
  {
   "cell_type": "code",
   "execution_count": 60,
   "id": "30f2eb32-421c-48c2-adbf-875324822338",
   "metadata": {},
   "outputs": [
    {
     "data": {
      "text/plain": [
       "disbursed_month\n",
       "2024-07    186779\n",
       "2024-05    177246\n",
       "2024-08    175063\n",
       "2024-06    164607\n",
       "2024-04    164552\n",
       "2024-10    162319\n",
       "2024-09    160055\n",
       "2024-11    135351\n",
       "2024-12     51603\n",
       "Freq: M, Name: count, dtype: int64"
      ]
     },
     "execution_count": 60,
     "metadata": {},
     "output_type": "execute_result"
    }
   ],
   "source": [
    "data_test.disbursed_month.value_counts()"
   ]
  },
  {
   "cell_type": "code",
   "execution_count": 61,
   "id": "0523300b-8517-4b8e-8942-dee654f0c865",
   "metadata": {},
   "outputs": [
    {
     "data": {
      "text/plain": [
       "(162319, 11)"
      ]
     },
     "execution_count": 61,
     "metadata": {},
     "output_type": "execute_result"
    }
   ],
   "source": [
    "# take only months with min 100,000 loans\n",
    "data_test=data_test[data_test.disbursed_month=='2024-10']\n",
    "data_test.shape"
   ]
  },
  {
   "cell_type": "code",
   "execution_count": 62,
   "id": "4fc740ed-fff0-417f-9221-9904bc975214",
   "metadata": {},
   "outputs": [],
   "source": [
    "data_test=data_test.reset_index()"
   ]
  },
  {
   "cell_type": "code",
   "execution_count": 79,
   "id": "7e967863-f3b8-4be2-906c-4db0780ca80c",
   "metadata": {},
   "outputs": [
    {
     "data": {
      "text/html": [
       "<div>\n",
       "<style scoped>\n",
       "    .dataframe tbody tr th:only-of-type {\n",
       "        vertical-align: middle;\n",
       "    }\n",
       "\n",
       "    .dataframe tbody tr th {\n",
       "        vertical-align: top;\n",
       "    }\n",
       "\n",
       "    .dataframe thead th {\n",
       "        text-align: right;\n",
       "    }\n",
       "</style>\n",
       "<table border=\"1\" class=\"dataframe\">\n",
       "  <thead>\n",
       "    <tr style=\"text-align: right;\">\n",
       "      <th></th>\n",
       "      <th>disbursed_month</th>\n",
       "      <th>ln_group</th>\n",
       "      <th>disbursed_amount</th>\n",
       "      <th>repaid_amount1</th>\n",
       "      <th>fdr1</th>\n",
       "      <th>bom_proportion</th>\n",
       "      <th>middle_month_proportion</th>\n",
       "      <th>eom_proportion</th>\n",
       "    </tr>\n",
       "  </thead>\n",
       "  <tbody>\n",
       "    <tr>\n",
       "      <th>0</th>\n",
       "      <td>2024-10</td>\n",
       "      <td>ln0</td>\n",
       "      <td>4833977.0</td>\n",
       "      <td>3389862.0</td>\n",
       "      <td>29.874</td>\n",
       "      <td>18.325386</td>\n",
       "      <td>65.692458</td>\n",
       "      <td>15.982157</td>\n",
       "    </tr>\n",
       "    <tr>\n",
       "      <th>1</th>\n",
       "      <td>2024-10</td>\n",
       "      <td>ln1</td>\n",
       "      <td>4566943.0</td>\n",
       "      <td>3610004.0</td>\n",
       "      <td>20.954</td>\n",
       "      <td>17.375246</td>\n",
       "      <td>62.742633</td>\n",
       "      <td>19.882122</td>\n",
       "    </tr>\n",
       "    <tr>\n",
       "      <th>2</th>\n",
       "      <td>2024-10</td>\n",
       "      <td>ln13-20</td>\n",
       "      <td>50883680.0</td>\n",
       "      <td>46123912.0</td>\n",
       "      <td>9.354</td>\n",
       "      <td>47.318425</td>\n",
       "      <td>12.619566</td>\n",
       "      <td>40.062009</td>\n",
       "    </tr>\n",
       "    <tr>\n",
       "      <th>3</th>\n",
       "      <td>2024-10</td>\n",
       "      <td>ln2-4</td>\n",
       "      <td>13919668.0</td>\n",
       "      <td>11827125.0</td>\n",
       "      <td>15.033</td>\n",
       "      <td>20.204989</td>\n",
       "      <td>58.212410</td>\n",
       "      <td>21.582602</td>\n",
       "    </tr>\n",
       "    <tr>\n",
       "      <th>4</th>\n",
       "      <td>2024-10</td>\n",
       "      <td>ln21+</td>\n",
       "      <td>71743360.0</td>\n",
       "      <td>67776442.0</td>\n",
       "      <td>5.529</td>\n",
       "      <td>44.092488</td>\n",
       "      <td>12.972730</td>\n",
       "      <td>42.934783</td>\n",
       "    </tr>\n",
       "    <tr>\n",
       "      <th>5</th>\n",
       "      <td>2024-10</td>\n",
       "      <td>ln5-8</td>\n",
       "      <td>20289931.0</td>\n",
       "      <td>18130850.0</td>\n",
       "      <td>10.641</td>\n",
       "      <td>42.837838</td>\n",
       "      <td>17.994088</td>\n",
       "      <td>39.168074</td>\n",
       "    </tr>\n",
       "    <tr>\n",
       "      <th>6</th>\n",
       "      <td>2024-10</td>\n",
       "      <td>ln9-12</td>\n",
       "      <td>25628793.0</td>\n",
       "      <td>23194776.0</td>\n",
       "      <td>9.497</td>\n",
       "      <td>46.620116</td>\n",
       "      <td>12.430050</td>\n",
       "      <td>40.949834</td>\n",
       "    </tr>\n",
       "  </tbody>\n",
       "</table>\n",
       "</div>"
      ],
      "text/plain": [
       "  disbursed_month ln_group  disbursed_amount  repaid_amount1    fdr1  \\\n",
       "0         2024-10      ln0         4833977.0       3389862.0  29.874   \n",
       "1         2024-10      ln1         4566943.0       3610004.0  20.954   \n",
       "2         2024-10  ln13-20        50883680.0      46123912.0   9.354   \n",
       "3         2024-10    ln2-4        13919668.0      11827125.0  15.033   \n",
       "4         2024-10    ln21+        71743360.0      67776442.0   5.529   \n",
       "5         2024-10    ln5-8        20289931.0      18130850.0  10.641   \n",
       "6         2024-10   ln9-12        25628793.0      23194776.0   9.497   \n",
       "\n",
       "   bom_proportion  middle_month_proportion  eom_proportion  \n",
       "0       18.325386                65.692458       15.982157  \n",
       "1       17.375246                62.742633       19.882122  \n",
       "2       47.318425                12.619566       40.062009  \n",
       "3       20.204989                58.212410       21.582602  \n",
       "4       44.092488                12.972730       42.934783  \n",
       "5       42.837838                17.994088       39.168074  \n",
       "6       46.620116                12.430050       40.949834  "
      ]
     },
     "execution_count": 79,
     "metadata": {},
     "output_type": "execute_result"
    }
   ],
   "source": [
    "# Create portfolio\n",
    "# LN Group FDRS\n",
    "portfolio_df_lns=pd.DataFrame(data_test.groupby(['disbursed_month','ln_group']).disbursed_amount.sum())\n",
    "portfolio_df_lns['repaid_amount1']=data_test.groupby(['disbursed_month','ln_group']).repaid_amount1.sum()\n",
    "portfolio_df_lns=round(portfolio_df_lns)\n",
    "\n",
    "# Calculate the FDR for each time period\n",
    "portfolio_df_lns['fdr1'] = (1 - portfolio_df_lns['repaid_amount1'] / portfolio_df_lns['disbursed_amount'])*100\n",
    "\n",
    "portfolio_df_lns=round(portfolio_df_lns,3).reset_index()\n",
    "portfolio_df_lns=pd.merge(portfolio_df_lns,grouped_rel,how='left',left_on=['disbursed_month','ln_group'],right_on=['disbursed_month','ln_group'])\n",
    "portfolio_df_lns"
   ]
  },
  {
   "cell_type": "code",
   "execution_count": 81,
   "id": "eea88517-ed6f-459c-9aef-61e5cb0abeb4",
   "metadata": {},
   "outputs": [
    {
     "data": {
      "text/html": [
       "<div>\n",
       "<style scoped>\n",
       "    .dataframe tbody tr th:only-of-type {\n",
       "        vertical-align: middle;\n",
       "    }\n",
       "\n",
       "    .dataframe tbody tr th {\n",
       "        vertical-align: top;\n",
       "    }\n",
       "\n",
       "    .dataframe thead th {\n",
       "        text-align: right;\n",
       "    }\n",
       "</style>\n",
       "<table border=\"1\" class=\"dataframe\">\n",
       "  <thead>\n",
       "    <tr style=\"text-align: right;\">\n",
       "      <th></th>\n",
       "      <th>disbursed_amount</th>\n",
       "      <th>repaid_amount1</th>\n",
       "      <th>fdr1</th>\n",
       "      <th>ln_group</th>\n",
       "      <th>bom_proportion</th>\n",
       "      <th>middle_month_proportion</th>\n",
       "      <th>eom_proportion</th>\n",
       "    </tr>\n",
       "    <tr>\n",
       "      <th>disbursed_month</th>\n",
       "      <th></th>\n",
       "      <th></th>\n",
       "      <th></th>\n",
       "      <th></th>\n",
       "      <th></th>\n",
       "      <th></th>\n",
       "      <th></th>\n",
       "    </tr>\n",
       "  </thead>\n",
       "  <tbody>\n",
       "    <tr>\n",
       "      <th>2024-10</th>\n",
       "      <td>191866352.0</td>\n",
       "      <td>174052970.0</td>\n",
       "      <td>9.284</td>\n",
       "      <td>Portfolio</td>\n",
       "      <td>35.754</td>\n",
       "      <td>31.124</td>\n",
       "      <td>33.121</td>\n",
       "    </tr>\n",
       "  </tbody>\n",
       "</table>\n",
       "</div>"
      ],
      "text/plain": [
       "                 disbursed_amount  repaid_amount1   fdr1   ln_group  \\\n",
       "disbursed_month                                                       \n",
       "2024-10               191866352.0     174052970.0  9.284  Portfolio   \n",
       "\n",
       "                 bom_proportion  middle_month_proportion  eom_proportion  \n",
       "disbursed_month                                                           \n",
       "2024-10                  35.754                   31.124          33.121  "
      ]
     },
     "execution_count": 81,
     "metadata": {},
     "output_type": "execute_result"
    }
   ],
   "source": [
    "# Portfolio FDRS\n",
    "portfolio_df=pd.DataFrame(data_test.groupby('disbursed_month').disbursed_amount.sum())\n",
    "portfolio_df['repaid_amount1']=data_test.groupby('disbursed_month').repaid_amount1.sum()\n",
    "portfolio_df=round(portfolio_df)\n",
    "\n",
    "# Calculate the FDR for each time period\n",
    "portfolio_df['fdr1'] = (1 - portfolio_df['repaid_amount1'] / portfolio_df['disbursed_amount'])*100\n",
    "portfolio_df['ln_group']='Portfolio'\n",
    "portfolio_df=pd.merge(portfolio_df,grouped2_rel,how='left',left_on=['disbursed_month'],right_index=True)\n",
    "round(portfolio_df,3)"
   ]
  },
  {
   "cell_type": "code",
   "execution_count": 83,
   "id": "829e3682-7426-46f8-b769-4dbb6018b62e",
   "metadata": {},
   "outputs": [
    {
     "data": {
      "text/html": [
       "<div>\n",
       "<style scoped>\n",
       "    .dataframe tbody tr th:only-of-type {\n",
       "        vertical-align: middle;\n",
       "    }\n",
       "\n",
       "    .dataframe tbody tr th {\n",
       "        vertical-align: top;\n",
       "    }\n",
       "\n",
       "    .dataframe thead th {\n",
       "        text-align: right;\n",
       "    }\n",
       "</style>\n",
       "<table border=\"1\" class=\"dataframe\">\n",
       "  <thead>\n",
       "    <tr style=\"text-align: right;\">\n",
       "      <th></th>\n",
       "      <th>disbursed_month</th>\n",
       "      <th>ln_group</th>\n",
       "      <th>disbursed_amount</th>\n",
       "      <th>repaid_amount1</th>\n",
       "      <th>fdr1</th>\n",
       "      <th>bom_proportion</th>\n",
       "      <th>middle_month_proportion</th>\n",
       "      <th>eom_proportion</th>\n",
       "    </tr>\n",
       "  </thead>\n",
       "  <tbody>\n",
       "    <tr>\n",
       "      <th>0</th>\n",
       "      <td>2024-10</td>\n",
       "      <td>ln0</td>\n",
       "      <td>4833977.0</td>\n",
       "      <td>3389862.0</td>\n",
       "      <td>29.874000</td>\n",
       "      <td>18.325386</td>\n",
       "      <td>65.692458</td>\n",
       "      <td>15.982157</td>\n",
       "    </tr>\n",
       "    <tr>\n",
       "      <th>1</th>\n",
       "      <td>2024-10</td>\n",
       "      <td>ln1</td>\n",
       "      <td>4566943.0</td>\n",
       "      <td>3610004.0</td>\n",
       "      <td>20.954000</td>\n",
       "      <td>17.375246</td>\n",
       "      <td>62.742633</td>\n",
       "      <td>19.882122</td>\n",
       "    </tr>\n",
       "    <tr>\n",
       "      <th>2</th>\n",
       "      <td>2024-10</td>\n",
       "      <td>ln13-20</td>\n",
       "      <td>50883680.0</td>\n",
       "      <td>46123912.0</td>\n",
       "      <td>9.354000</td>\n",
       "      <td>47.318425</td>\n",
       "      <td>12.619566</td>\n",
       "      <td>40.062009</td>\n",
       "    </tr>\n",
       "    <tr>\n",
       "      <th>3</th>\n",
       "      <td>2024-10</td>\n",
       "      <td>ln2-4</td>\n",
       "      <td>13919668.0</td>\n",
       "      <td>11827125.0</td>\n",
       "      <td>15.033000</td>\n",
       "      <td>20.204989</td>\n",
       "      <td>58.212410</td>\n",
       "      <td>21.582602</td>\n",
       "    </tr>\n",
       "    <tr>\n",
       "      <th>4</th>\n",
       "      <td>2024-10</td>\n",
       "      <td>ln21+</td>\n",
       "      <td>71743360.0</td>\n",
       "      <td>67776442.0</td>\n",
       "      <td>5.529000</td>\n",
       "      <td>44.092488</td>\n",
       "      <td>12.972730</td>\n",
       "      <td>42.934783</td>\n",
       "    </tr>\n",
       "    <tr>\n",
       "      <th>5</th>\n",
       "      <td>2024-10</td>\n",
       "      <td>ln5-8</td>\n",
       "      <td>20289931.0</td>\n",
       "      <td>18130850.0</td>\n",
       "      <td>10.641000</td>\n",
       "      <td>42.837838</td>\n",
       "      <td>17.994088</td>\n",
       "      <td>39.168074</td>\n",
       "    </tr>\n",
       "    <tr>\n",
       "      <th>6</th>\n",
       "      <td>2024-10</td>\n",
       "      <td>ln9-12</td>\n",
       "      <td>25628793.0</td>\n",
       "      <td>23194776.0</td>\n",
       "      <td>9.497000</td>\n",
       "      <td>46.620116</td>\n",
       "      <td>12.430050</td>\n",
       "      <td>40.949834</td>\n",
       "    </tr>\n",
       "    <tr>\n",
       "      <th>0</th>\n",
       "      <td>2024-10</td>\n",
       "      <td>Portfolio</td>\n",
       "      <td>191866352.0</td>\n",
       "      <td>174052970.0</td>\n",
       "      <td>9.284266</td>\n",
       "      <td>35.754176</td>\n",
       "      <td>31.124344</td>\n",
       "      <td>33.121479</td>\n",
       "    </tr>\n",
       "  </tbody>\n",
       "</table>\n",
       "</div>"
      ],
      "text/plain": [
       "  disbursed_month   ln_group  disbursed_amount  repaid_amount1       fdr1  \\\n",
       "0         2024-10        ln0         4833977.0       3389862.0  29.874000   \n",
       "1         2024-10        ln1         4566943.0       3610004.0  20.954000   \n",
       "2         2024-10    ln13-20        50883680.0      46123912.0   9.354000   \n",
       "3         2024-10      ln2-4        13919668.0      11827125.0  15.033000   \n",
       "4         2024-10      ln21+        71743360.0      67776442.0   5.529000   \n",
       "5         2024-10      ln5-8        20289931.0      18130850.0  10.641000   \n",
       "6         2024-10     ln9-12        25628793.0      23194776.0   9.497000   \n",
       "0         2024-10  Portfolio       191866352.0     174052970.0   9.284266   \n",
       "\n",
       "   bom_proportion  middle_month_proportion  eom_proportion  \n",
       "0       18.325386                65.692458       15.982157  \n",
       "1       17.375246                62.742633       19.882122  \n",
       "2       47.318425                12.619566       40.062009  \n",
       "3       20.204989                58.212410       21.582602  \n",
       "4       44.092488                12.972730       42.934783  \n",
       "5       42.837838                17.994088       39.168074  \n",
       "6       46.620116                12.430050       40.949834  \n",
       "0       35.754176                31.124344       33.121479  "
      ]
     },
     "execution_count": 83,
     "metadata": {},
     "output_type": "execute_result"
    }
   ],
   "source": [
    "portfolio_df_lns=pd.concat([portfolio_df_lns,portfolio_df.reset_index()])\n",
    "portfolio_df_lns"
   ]
  },
  {
   "cell_type": "code",
   "execution_count": 85,
   "id": "0e9d96d6-80a8-48c6-a716-08828fa475d1",
   "metadata": {},
   "outputs": [],
   "source": [
    "X_test = portfolio_df_lns"
   ]
  },
  {
   "cell_type": "code",
   "execution_count": 87,
   "id": "945fa2c1-c564-4e92-9ffc-21e21eceb095",
   "metadata": {},
   "outputs": [],
   "source": [
    "columns_to_drop = ['disbursed_month','ln_group']"
   ]
  },
  {
   "cell_type": "code",
   "execution_count": 89,
   "id": "ba33bd4c-bd1d-421e-aff2-d864c81b9e50",
   "metadata": {},
   "outputs": [
    {
     "data": {
      "text/plain": [
       "['disbursed_month',\n",
       " 'ln_group',\n",
       " 'disbursed_amount',\n",
       " 'repaid_amount1',\n",
       " 'fdr1',\n",
       " 'bom_proportion',\n",
       " 'middle_month_proportion',\n",
       " 'eom_proportion']"
      ]
     },
     "execution_count": 89,
     "metadata": {},
     "output_type": "execute_result"
    }
   ],
   "source": [
    "X_test.columns.tolist()"
   ]
  },
  {
   "cell_type": "code",
   "execution_count": 91,
   "id": "9c00ecc5-766e-41cd-8f44-9b9904100d65",
   "metadata": {},
   "outputs": [],
   "source": [
    "## create per ln group\n",
    "X_test_ln0 = X_test[X_test['ln_group'] == 'ln0']\n",
    "X_test_ln1 = X_test[X_test['ln_group'] == 'ln1']\n",
    "X_test_ln2_4 = X_test[X_test['ln_group'] == 'ln2-4']\n",
    "X_test_ln5_8 = X_test[X_test['ln_group'] == 'ln5-8']\n",
    "X_test_ln9_12 = X_test[X_test['ln_group'] == 'ln9-12']\n",
    "X_test_ln13_20 = X_test[X_test['ln_group'] == 'ln13-20']\n",
    "X_test_ln21 = X_test[X_test['ln_group'] == 'ln21+']\n",
    "X_test_portfolio = X_test[X_test['ln_group'] == 'Portfolio']"
   ]
  },
  {
   "cell_type": "code",
   "execution_count": 93,
   "id": "8d4e62b3-1af1-4572-ab11-d91813f192bd",
   "metadata": {},
   "outputs": [],
   "source": [
    "ln_groups = ['ln0', 'ln1', 'ln2_4', 'ln5_8', 'ln9_12', 'ln13_20', 'ln21','portfolio']"
   ]
  },
  {
   "cell_type": "code",
   "execution_count": 109,
   "id": "6de8bb41-a9d1-4e6f-bc77-11b2b1ed69f2",
   "metadata": {},
   "outputs": [],
   "source": [
    "# Initialize an empty dictionary to store predictions\n",
    "predictions = {}\n",
    "\n",
    "# Loop through the ln groups and make predictions\n",
    "for ln_group in ln_groups:\n",
    "    model_key = f'fdr30_forecast_for_dpd1_{ln_group}_model'\n",
    "    x_test_key = f'X_test_{ln_group}'\n",
    "    \n",
    "    # Make predictions for the current ln group\n",
    "    predictions[ln_group] = model_dict_fdr30_dpd1[model_key].predict(\n",
    "        globals()[x_test_key].drop(columns=columns_to_drop)\n",
    "    )"
   ]
  },
  {
   "cell_type": "code",
   "execution_count": 111,
   "id": "a272544c-5582-49a0-8bb2-0d337a299fdf",
   "metadata": {},
   "outputs": [
    {
     "data": {
      "text/html": [
       "<div>\n",
       "<style scoped>\n",
       "    .dataframe tbody tr th:only-of-type {\n",
       "        vertical-align: middle;\n",
       "    }\n",
       "\n",
       "    .dataframe tbody tr th {\n",
       "        vertical-align: top;\n",
       "    }\n",
       "\n",
       "    .dataframe thead th {\n",
       "        text-align: right;\n",
       "    }\n",
       "</style>\n",
       "<table border=\"1\" class=\"dataframe\">\n",
       "  <thead>\n",
       "    <tr style=\"text-align: right;\">\n",
       "      <th></th>\n",
       "      <th>predicted_fdr30</th>\n",
       "    </tr>\n",
       "  </thead>\n",
       "  <tbody>\n",
       "    <tr>\n",
       "      <th>ln0</th>\n",
       "      <td>21.855165</td>\n",
       "    </tr>\n",
       "    <tr>\n",
       "      <th>ln1</th>\n",
       "      <td>11.030482</td>\n",
       "    </tr>\n",
       "    <tr>\n",
       "      <th>ln2_4</th>\n",
       "      <td>7.405701</td>\n",
       "    </tr>\n",
       "    <tr>\n",
       "      <th>ln5_8</th>\n",
       "      <td>4.491064</td>\n",
       "    </tr>\n",
       "    <tr>\n",
       "      <th>ln9_12</th>\n",
       "      <td>4.903209</td>\n",
       "    </tr>\n",
       "    <tr>\n",
       "      <th>ln13_20</th>\n",
       "      <td>4.937120</td>\n",
       "    </tr>\n",
       "    <tr>\n",
       "      <th>ln21</th>\n",
       "      <td>1.919176</td>\n",
       "    </tr>\n",
       "    <tr>\n",
       "      <th>portfolio</th>\n",
       "      <td>5.286777</td>\n",
       "    </tr>\n",
       "  </tbody>\n",
       "</table>\n",
       "</div>"
      ],
      "text/plain": [
       "           predicted_fdr30\n",
       "ln0              21.855165\n",
       "ln1              11.030482\n",
       "ln2_4             7.405701\n",
       "ln5_8             4.491064\n",
       "ln9_12            4.903209\n",
       "ln13_20           4.937120\n",
       "ln21              1.919176\n",
       "portfolio         5.286777"
      ]
     },
     "execution_count": 111,
     "metadata": {},
     "output_type": "execute_result"
    }
   ],
   "source": [
    "res=pd.DataFrame(predictions).transpose().rename(columns={0:'predicted_fdr30'})\n",
    "# portfolio_df_lns.set_index('ln_group').join(res)\n",
    "res"
   ]
  },
  {
   "cell_type": "code",
   "execution_count": 113,
   "id": "083f7773-f7fd-44ec-b659-78f2145704fc",
   "metadata": {},
   "outputs": [],
   "source": [
    "ln_group_order = ['ln0', 'ln1', 'ln2-4', 'ln5-8', 'ln9-12', 'ln13-20', 'ln21+', 'Portfolio']"
   ]
  },
  {
   "cell_type": "code",
   "execution_count": 115,
   "id": "9a4449a2-4de7-48f1-82d6-15d954c5033d",
   "metadata": {},
   "outputs": [],
   "source": [
    "portfolio_df_lns['ln_group'] = pd.Categorical(portfolio_df_lns['ln_group'], categories=ln_group_order, ordered=True)\n"
   ]
  },
  {
   "cell_type": "code",
   "execution_count": 117,
   "id": "9248c2de-2680-425d-b1e1-43e1a3d6074b",
   "metadata": {},
   "outputs": [
    {
     "data": {
      "text/html": [
       "<div>\n",
       "<style scoped>\n",
       "    .dataframe tbody tr th:only-of-type {\n",
       "        vertical-align: middle;\n",
       "    }\n",
       "\n",
       "    .dataframe tbody tr th {\n",
       "        vertical-align: top;\n",
       "    }\n",
       "\n",
       "    .dataframe thead th {\n",
       "        text-align: right;\n",
       "    }\n",
       "</style>\n",
       "<table border=\"1\" class=\"dataframe\">\n",
       "  <thead>\n",
       "    <tr style=\"text-align: right;\">\n",
       "      <th></th>\n",
       "      <th>disbursed_month</th>\n",
       "      <th>ln_group</th>\n",
       "      <th>disbursed_amount</th>\n",
       "      <th>repaid_amount1</th>\n",
       "      <th>fdr1</th>\n",
       "      <th>bom_proportion</th>\n",
       "      <th>middle_month_proportion</th>\n",
       "      <th>eom_proportion</th>\n",
       "      <th>predicted_fdr30</th>\n",
       "    </tr>\n",
       "  </thead>\n",
       "  <tbody>\n",
       "    <tr>\n",
       "      <th>0</th>\n",
       "      <td>2024-10</td>\n",
       "      <td>ln0</td>\n",
       "      <td>4833977.0</td>\n",
       "      <td>3389862.0</td>\n",
       "      <td>29.874000</td>\n",
       "      <td>18.325386</td>\n",
       "      <td>65.692458</td>\n",
       "      <td>15.982157</td>\n",
       "      <td>21.855165</td>\n",
       "    </tr>\n",
       "    <tr>\n",
       "      <th>1</th>\n",
       "      <td>2024-10</td>\n",
       "      <td>ln1</td>\n",
       "      <td>4566943.0</td>\n",
       "      <td>3610004.0</td>\n",
       "      <td>20.954000</td>\n",
       "      <td>17.375246</td>\n",
       "      <td>62.742633</td>\n",
       "      <td>19.882122</td>\n",
       "      <td>11.030482</td>\n",
       "    </tr>\n",
       "    <tr>\n",
       "      <th>3</th>\n",
       "      <td>2024-10</td>\n",
       "      <td>ln2-4</td>\n",
       "      <td>13919668.0</td>\n",
       "      <td>11827125.0</td>\n",
       "      <td>15.033000</td>\n",
       "      <td>20.204989</td>\n",
       "      <td>58.212410</td>\n",
       "      <td>21.582602</td>\n",
       "      <td>7.405701</td>\n",
       "    </tr>\n",
       "    <tr>\n",
       "      <th>5</th>\n",
       "      <td>2024-10</td>\n",
       "      <td>ln5-8</td>\n",
       "      <td>20289931.0</td>\n",
       "      <td>18130850.0</td>\n",
       "      <td>10.641000</td>\n",
       "      <td>42.837838</td>\n",
       "      <td>17.994088</td>\n",
       "      <td>39.168074</td>\n",
       "      <td>4.491064</td>\n",
       "    </tr>\n",
       "    <tr>\n",
       "      <th>6</th>\n",
       "      <td>2024-10</td>\n",
       "      <td>ln9-12</td>\n",
       "      <td>25628793.0</td>\n",
       "      <td>23194776.0</td>\n",
       "      <td>9.497000</td>\n",
       "      <td>46.620116</td>\n",
       "      <td>12.430050</td>\n",
       "      <td>40.949834</td>\n",
       "      <td>4.903209</td>\n",
       "    </tr>\n",
       "    <tr>\n",
       "      <th>2</th>\n",
       "      <td>2024-10</td>\n",
       "      <td>ln13-20</td>\n",
       "      <td>50883680.0</td>\n",
       "      <td>46123912.0</td>\n",
       "      <td>9.354000</td>\n",
       "      <td>47.318425</td>\n",
       "      <td>12.619566</td>\n",
       "      <td>40.062009</td>\n",
       "      <td>4.937120</td>\n",
       "    </tr>\n",
       "    <tr>\n",
       "      <th>4</th>\n",
       "      <td>2024-10</td>\n",
       "      <td>ln21+</td>\n",
       "      <td>71743360.0</td>\n",
       "      <td>67776442.0</td>\n",
       "      <td>5.529000</td>\n",
       "      <td>44.092488</td>\n",
       "      <td>12.972730</td>\n",
       "      <td>42.934783</td>\n",
       "      <td>1.919176</td>\n",
       "    </tr>\n",
       "    <tr>\n",
       "      <th>0</th>\n",
       "      <td>2024-10</td>\n",
       "      <td>Portfolio</td>\n",
       "      <td>191866352.0</td>\n",
       "      <td>174052970.0</td>\n",
       "      <td>9.284266</td>\n",
       "      <td>35.754176</td>\n",
       "      <td>31.124344</td>\n",
       "      <td>33.121479</td>\n",
       "      <td>5.286777</td>\n",
       "    </tr>\n",
       "  </tbody>\n",
       "</table>\n",
       "</div>"
      ],
      "text/plain": [
       "  disbursed_month   ln_group  disbursed_amount  repaid_amount1       fdr1  \\\n",
       "0         2024-10        ln0         4833977.0       3389862.0  29.874000   \n",
       "1         2024-10        ln1         4566943.0       3610004.0  20.954000   \n",
       "3         2024-10      ln2-4        13919668.0      11827125.0  15.033000   \n",
       "5         2024-10      ln5-8        20289931.0      18130850.0  10.641000   \n",
       "6         2024-10     ln9-12        25628793.0      23194776.0   9.497000   \n",
       "2         2024-10    ln13-20        50883680.0      46123912.0   9.354000   \n",
       "4         2024-10      ln21+        71743360.0      67776442.0   5.529000   \n",
       "0         2024-10  Portfolio       191866352.0     174052970.0   9.284266   \n",
       "\n",
       "   bom_proportion  middle_month_proportion  eom_proportion  predicted_fdr30  \n",
       "0       18.325386                65.692458       15.982157        21.855165  \n",
       "1       17.375246                62.742633       19.882122        11.030482  \n",
       "3       20.204989                58.212410       21.582602         7.405701  \n",
       "5       42.837838                17.994088       39.168074         4.491064  \n",
       "6       46.620116                12.430050       40.949834         4.903209  \n",
       "2       47.318425                12.619566       40.062009         4.937120  \n",
       "4       44.092488                12.972730       42.934783         1.919176  \n",
       "0       35.754176                31.124344       33.121479         5.286777  "
      ]
     },
     "execution_count": 117,
     "metadata": {},
     "output_type": "execute_result"
    }
   ],
   "source": [
    "portfolio_df_lns=portfolio_df_lns.sort_values(by='ln_group')\n",
    "portfolio_df_lns['predicted_fdr30']=res.predicted_fdr30.values\n",
    "portfolio_df_lns"
   ]
  },
  {
   "cell_type": "code",
   "execution_count": 119,
   "id": "f15b22f1-ee1c-4870-a4c2-ce1b4032aa9c",
   "metadata": {},
   "outputs": [],
   "source": [
    "portfolio_df_lns.disbursed_month=portfolio_df_lns.disbursed_month.astype('str')"
   ]
  },
  {
   "cell_type": "code",
   "execution_count": 121,
   "id": "45454b16-d80b-4871-8996-fc182c07901b",
   "metadata": {},
   "outputs": [],
   "source": [
    "import datetime"
   ]
  },
  {
   "cell_type": "code",
   "execution_count": 123,
   "id": "581900fc-e281-41b3-af25-559521db9e04",
   "metadata": {},
   "outputs": [],
   "source": [
    "portfolio_df_lns['pred_date']=datetime.date.today().strftime('%Y-%m-%d')"
   ]
  },
  {
   "cell_type": "code",
   "execution_count": 125,
   "id": "fd2ab776-6376-463a-8c79-46854123cc99",
   "metadata": {},
   "outputs": [],
   "source": [
    "portfolio_df_lns=portfolio_df_lns.drop(columns=['bom_proportion','middle_month_proportion','eom_proportion'])"
   ]
  },
  {
   "cell_type": "code",
   "execution_count": 47,
   "id": "af60b22f-2f3d-4efb-ae67-faa47520fd75",
   "metadata": {
    "tags": []
   },
   "outputs": [],
   "source": [
    "# # # FIRST UPLOAD ONLY\n",
    "# portfolio_df_lns.to_sql(table_name, connection, schema='risk_reports',if_exists='replace', index=False)\n"
   ]
  },
  {
   "cell_type": "markdown",
   "id": "e6c3f408-e015-4ede-b15e-f71d841a4ae4",
   "metadata": {
    "jp-MarkdownHeadingCollapsed": true,
    "tags": []
   },
   "source": [
    "# Upload to SF"
   ]
  },
  {
   "cell_type": "code",
   "execution_count": 48,
   "id": "158ee588-9867-46ba-9998-4a68ecc331f9",
   "metadata": {},
   "outputs": [],
   "source": [
    "my_user=\"AMIT_S\"\n",
    "my_pass=\"Amit2525!!\"\n",
    "my_account=\"xukvgcv-xm56910\"\n",
    "my_warehouse='COMPUTE_WH'\n",
    "my_db='ghana_prod'\n",
    "table_name='fdr_new_predictions'"
   ]
  },
  {
   "cell_type": "code",
   "execution_count": 49,
   "id": "2bca1a6c-cc00-431f-be20-34e38fecc929",
   "metadata": {},
   "outputs": [],
   "source": [
    "import snowflake.connector\n",
    "from snowflake.sqlalchemy import URL\n",
    "from sqlalchemy import create_engine"
   ]
  },
  {
   "cell_type": "code",
   "execution_count": 50,
   "id": "1fafc015-629b-4dc2-8292-fc621aa0f9a4",
   "metadata": {},
   "outputs": [],
   "source": [
    "engine = create_engine(URL(user=my_user,password=my_pass,account=my_account,warehouse=my_warehouse,database=my_db))\n",
    "connection = engine.connect()"
   ]
  },
  {
   "cell_type": "code",
   "execution_count": 51,
   "id": "0c2bda87-97d9-4274-a49a-3a48493de234",
   "metadata": {
    "tags": []
   },
   "outputs": [
    {
     "data": {
      "text/plain": [
       "8"
      ]
     },
     "execution_count": 51,
     "metadata": {},
     "output_type": "execute_result"
    }
   ],
   "source": [
    "# # # FIRST UPLOAD ONLY\n",
    "portfolio_df_lns.to_sql(table_name, connection, schema='risk_reports',if_exists='append', index=False)\n"
   ]
  },
  {
   "cell_type": "code",
   "execution_count": null,
   "id": "f946ded1-289f-431d-a8a9-801d759cd014",
   "metadata": {},
   "outputs": [],
   "source": []
  },
  {
   "cell_type": "markdown",
   "id": "00d3ee64-6a1b-4be4-8d1a-2a817a7402e6",
   "metadata": {
    "tags": [
     "exclude"
    ]
   },
   "source": [
    "# Upload To S3"
   ]
  },
  {
   "cell_type": "code",
   "execution_count": 127,
   "id": "1d986699-f259-45de-8c0a-6b8717e42e81",
   "metadata": {},
   "outputs": [],
   "source": [
    "import boto3"
   ]
  },
  {
   "cell_type": "code",
   "execution_count": 129,
   "id": "6fd11b4c-ec12-4d43-91f5-93ceac57f2ee",
   "metadata": {},
   "outputs": [],
   "source": [
    "session = boto3.Session(profile_name='gh-dev')"
   ]
  },
  {
   "cell_type": "code",
   "execution_count": 131,
   "id": "bb5c0d37-9116-4a20-beca-4932068a7220",
   "metadata": {},
   "outputs": [],
   "source": [
    "s3 = session.resource('s3')\n",
    "my_bucket=s3.Bucket('gh-dev-risk-data')"
   ]
  },
  {
   "cell_type": "code",
   "execution_count": null,
   "id": "5d1ef440-8a5d-4b0e-a13e-5878d8dc309e",
   "metadata": {},
   "outputs": [],
   "source": [
    "# creates empty folder"
   ]
  },
  {
   "cell_type": "code",
   "execution_count": 190,
   "id": "e0cd66d2-90ff-427a-9ddb-9737bac491c0",
   "metadata": {
    "tags": []
   },
   "outputs": [],
   "source": [
    "# s3_client = session.client('s3')\n",
    "\n",
    "# # Specify the bucket name\n",
    "# bucket_name = 'gh-dev-data-tasks'\n",
    "\n",
    "# # Specify the folder name you want to create (e.g., 'new-folder/')\n",
    "# folder_name = 'amit-fdr-predictions/fdr30/'\n",
    "\n",
    "# # Create the folder by uploading an empty object\n",
    "# s3_client.put_object(Bucket=bucket_name, Key=folder_name)\n"
   ]
  },
  {
   "cell_type": "code",
   "execution_count": 133,
   "id": "5ed4f297-ab88-4bb7-9f53-ff6587df0578",
   "metadata": {},
   "outputs": [],
   "source": [
    "# upload df as csv\n",
    "\n",
    "from io import StringIO\n",
    "\n",
    "# Assume df is your DataFrame\n",
    "csv_buffer = StringIO()\n",
    "portfolio_df_lns.to_csv(csv_buffer, index=False)  # Convert DataFrame to CSV format in-memory\n"
   ]
  },
  {
   "cell_type": "code",
   "execution_count": 135,
   "id": "e2f27198-3b92-4545-9c43-70bbf1890a23",
   "metadata": {},
   "outputs": [],
   "source": [
    "file_name='fdr30_preds_dec2024.csv'"
   ]
  },
  {
   "cell_type": "code",
   "execution_count": 137,
   "id": "cd9e2b71-3d05-477d-98b6-6967b3777d0b",
   "metadata": {},
   "outputs": [
    {
     "data": {
      "text/plain": [
       "{'ResponseMetadata': {'RequestId': 'MKHETPQ6991D4X27',\n",
       "  'HostId': 'tp2gRCyWu/NGZcTU3kbLTl38LZGpestD6eyi6LZ82NwkB+W4vQEtrdvRjKCl3HnksHxPAgxJJhT11U7QxKucQbmS7g254nSy',\n",
       "  'HTTPStatusCode': 200,\n",
       "  'HTTPHeaders': {'x-amz-id-2': 'tp2gRCyWu/NGZcTU3kbLTl38LZGpestD6eyi6LZ82NwkB+W4vQEtrdvRjKCl3HnksHxPAgxJJhT11U7QxKucQbmS7g254nSy',\n",
       "   'x-amz-request-id': 'MKHETPQ6991D4X27',\n",
       "   'date': 'Mon, 06 Jan 2025 09:44:31 GMT',\n",
       "   'x-amz-version-id': 'hcGUyukS.Fw9gc9ekGZLzqJLvNob._MY',\n",
       "   'x-amz-server-side-encryption': 'AES256',\n",
       "   'etag': '\"35300b432de282580f2a238b4fc97b04\"',\n",
       "   'content-length': '0',\n",
       "   'server': 'AmazonS3'},\n",
       "  'RetryAttempts': 0},\n",
       " 'ETag': '\"35300b432de282580f2a238b4fc97b04\"',\n",
       " 'ServerSideEncryption': 'AES256',\n",
       " 'VersionId': 'hcGUyukS.Fw9gc9ekGZLzqJLvNob._MY'}"
      ]
     },
     "execution_count": 137,
     "metadata": {},
     "output_type": "execute_result"
    }
   ],
   "source": [
    "\n",
    "# Create an S3 client\n",
    "s3_client = session.client('s3')\n",
    "\n",
    "# Specify the bucket and folder names\n",
    "bucket_name = 'gh-dev-risk-data'\n",
    "folder_name = 'fdr-predictions/fdr30/'  # The folder you created in S3\n",
    "\n",
    "# Upload the CSV to S3\n",
    "s3_client.put_object(\n",
    "    Bucket=bucket_name,\n",
    "    Key=f'{folder_name}{file_name}',  # Path in S3 including the folder\n",
    "    Body=csv_buffer.getvalue()  # Get the CSV data from the buffer\n",
    ")\n"
   ]
  },
  {
   "cell_type": "markdown",
   "id": "da03a44d-9803-4905-987f-d6a46278ea21",
   "metadata": {
    "tags": []
   },
   "source": [
    "# See list of files"
   ]
  },
  {
   "cell_type": "code",
   "execution_count": 140,
   "id": "d45cef4b-361e-4b62-b205-a8a0a649ce0f",
   "metadata": {
    "tags": []
   },
   "outputs": [
    {
     "name": "stdout",
     "output_type": "stream",
     "text": [
      "2024-08-28 18:00:47          0 \n",
      "2024-08-28 18:00:47        670 fdr30_preds_aug2024.csv\n",
      "2025-01-06 11:44:31        671 fdr30_preds_dec2024.csv\n",
      "2024-11-03 15:52:22        675 fdr30_preds_oct2024.csv\n",
      "2024-09-05 16:21:44        668 fdr30_preds_sept2024.csv\n"
     ]
    }
   ],
   "source": [
    "!/usr/local/bin/aws --profile gh-dev s3 ls s3://'gh-dev-risk-data/fdr-predictions/fdr30/'\n"
   ]
  },
  {
   "cell_type": "code",
   "execution_count": null,
   "id": "964a1dbe-6dba-41a5-9b01-b7f1e57adacd",
   "metadata": {},
   "outputs": [],
   "source": []
  }
 ],
 "metadata": {
  "kernelspec": {
   "display_name": ".venv",
   "language": "python",
   "name": "python3"
  },
  "language_info": {
   "codemirror_mode": {
    "name": "ipython",
    "version": 3
   },
   "file_extension": ".py",
   "mimetype": "text/x-python",
   "name": "python",
   "nbconvert_exporter": "python",
   "pygments_lexer": "ipython3",
   "version": "3.12.8"
  }
 },
 "nbformat": 4,
 "nbformat_minor": 5
}
